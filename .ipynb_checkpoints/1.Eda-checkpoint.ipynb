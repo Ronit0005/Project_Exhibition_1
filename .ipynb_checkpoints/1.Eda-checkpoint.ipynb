{
 "cells": [
  {
   "cell_type": "markdown",
   "id": "b33bfc8c",
   "metadata": {},
   "source": [
    "Data Visualisation "
   ]
  },
  {
   "cell_type": "code",
   "execution_count": 1,
   "id": "4af89966",
   "metadata": {},
   "outputs": [],
   "source": [
    "import pandas as pd"
   ]
  },
  {
   "cell_type": "code",
   "execution_count": 2,
   "id": "4275f8e9",
   "metadata": {},
   "outputs": [],
   "source": [
    "Data = pd.read_csv(\"Dataset_missing_02.csv\")"
   ]
  },
  {
   "cell_type": "code",
   "execution_count": 5,
   "id": "8a62c1b6",
   "metadata": {},
   "outputs": [
    {
     "name": "stdout",
     "output_type": "stream",
     "text": [
      "   HeartDiseaseorAttack  HighBP  HighChol  CholCheck   BMI  Smoker  Stroke  \\\n",
      "0                   0.0     1.0       1.0        1.0  40.0     1.0     0.0   \n",
      "1                   0.0     0.0       0.0        0.0  25.0     1.0     0.0   \n",
      "2                   0.0     1.0       1.0        1.0  28.0     0.0     0.0   \n",
      "3                   0.0     1.0       0.0        1.0  27.0     0.0     0.0   \n",
      "4                   0.0     1.0       1.0        1.0  24.0     0.0     0.0   \n",
      "\n",
      "   Diabetes  PhysActivity  Fruits  ...  AnyHealthcare  NoDocbcCost  GenHlth  \\\n",
      "0       0.0           0.0     0.0  ...            1.0          0.0      5.0   \n",
      "1       0.0           1.0     0.0  ...            0.0          1.0      3.0   \n",
      "2       0.0           0.0     1.0  ...            1.0          1.0      5.0   \n",
      "3       0.0           1.0     1.0  ...            1.0          0.0      2.0   \n",
      "4       0.0           1.0     1.0  ...            1.0          0.0      2.0   \n",
      "\n",
      "   MentHlth  PhysHlth  DiffWalk  Sex   Age  Education  Income  \n",
      "0      18.0      15.0       1.0  0.0   9.0        4.0     3.0  \n",
      "1       0.0       0.0       0.0  0.0   7.0        6.0     1.0  \n",
      "2      30.0      30.0       1.0  0.0   9.0        4.0     8.0  \n",
      "3       0.0       0.0       0.0  0.0  11.0        3.0     6.0  \n",
      "4       3.0       0.0       0.0  0.0  11.0        5.0     4.0  \n",
      "\n",
      "[5 rows x 22 columns]\n",
      "------------------------------------------------------------------------------------------------------------------------\n",
      "        HeartDiseaseorAttack  HighBP  HighChol  CholCheck   BMI  Smoker  \\\n",
      "253675                   0.0     1.0       1.0        1.0  45.0     0.0   \n",
      "253676                   0.0     1.0       1.0        1.0  18.0     0.0   \n",
      "253677                   0.0     0.0       0.0        1.0  28.0     0.0   \n",
      "253678                   0.0     1.0       0.0        1.0  23.0     0.0   \n",
      "253679                   1.0     1.0       1.0        1.0  25.0     0.0   \n",
      "\n",
      "        Stroke  Diabetes  PhysActivity  Fruits  ...  AnyHealthcare  \\\n",
      "253675     0.0       0.0           0.0     1.0  ...            1.0   \n",
      "253676     0.0       2.0           0.0     0.0  ...            1.0   \n",
      "253677     0.0       0.0           1.0     1.0  ...            1.0   \n",
      "253678     0.0       0.0           0.0     1.0  ...            1.0   \n",
      "253679     0.0       2.0           1.0     1.0  ...            1.0   \n",
      "\n",
      "        NoDocbcCost  GenHlth  MentHlth  PhysHlth  DiffWalk  Sex   Age  \\\n",
      "253675          0.0      3.0       0.0       5.0       0.0  1.0   5.0   \n",
      "253676          0.0      4.0       0.0       0.0       1.0  0.0  11.0   \n",
      "253677          0.0      1.0       0.0       0.0       0.0  0.0   2.0   \n",
      "253678          0.0      3.0       0.0       0.0       0.0  1.0   7.0   \n",
      "253679          0.0      2.0       0.0       0.0       0.0  0.0   9.0   \n",
      "\n",
      "        Education  Income  \n",
      "253675        6.0     7.0  \n",
      "253676        2.0     4.0  \n",
      "253677        5.0     2.0  \n",
      "253678        5.0     1.0  \n",
      "253679        6.0     2.0  \n",
      "\n",
      "[5 rows x 22 columns]\n"
     ]
    }
   ],
   "source": [
    "print(Data.head())\n",
    "print(\"------------------------------------------------------------------------------------------------------------------------\")\n",
    "print(Data.tail())"
   ]
  },
  {
   "cell_type": "code",
   "execution_count": 6,
   "id": "e3361c1b",
   "metadata": {},
   "outputs": [
    {
     "name": "stdout",
     "output_type": "stream",
     "text": [
      "<class 'pandas.core.frame.DataFrame'>\n",
      "RangeIndex: 253680 entries, 0 to 253679\n",
      "Data columns (total 22 columns):\n",
      " #   Column                Non-Null Count   Dtype  \n",
      "---  ------                --------------   -----  \n",
      " 0   HeartDiseaseorAttack  253680 non-null  float64\n",
      " 1   HighBP                253664 non-null  float64\n",
      " 2   HighChol              253669 non-null  float64\n",
      " 3   CholCheck             253668 non-null  float64\n",
      " 4   BMI                   253669 non-null  float64\n",
      " 5   Smoker                253664 non-null  float64\n",
      " 6   Stroke                253670 non-null  float64\n",
      " 7   Diabetes              253662 non-null  float64\n",
      " 8   PhysActivity          253670 non-null  float64\n",
      " 9   Fruits                253665 non-null  float64\n",
      " 10  Veggies               253666 non-null  float64\n",
      " 11  HvyAlcoholConsump     253670 non-null  float64\n",
      " 12  AnyHealthcare         253666 non-null  float64\n",
      " 13  NoDocbcCost           253667 non-null  float64\n",
      " 14  GenHlth               253661 non-null  float64\n",
      " 15  MentHlth              253668 non-null  float64\n",
      " 16  PhysHlth              253668 non-null  float64\n",
      " 17  DiffWalk              253660 non-null  float64\n",
      " 18  Sex                   253664 non-null  float64\n",
      " 19  Age                   253668 non-null  float64\n",
      " 20  Education             253664 non-null  float64\n",
      " 21  Income                253660 non-null  float64\n",
      "dtypes: float64(22)\n",
      "memory usage: 42.6 MB\n",
      "None\n"
     ]
    }
   ],
   "source": [
    "print(Data.info())"
   ]
  },
  {
   "cell_type": "code",
   "execution_count": 12,
   "id": "0f583a24",
   "metadata": {},
   "outputs": [
    {
     "ename": "KeyError",
     "evalue": "('BMI', 'Income')",
     "output_type": "error",
     "traceback": [
      "\u001b[1;31m---------------------------------------------------------------------------\u001b[0m",
      "\u001b[1;31mKeyError\u001b[0m                                  Traceback (most recent call last)",
      "File \u001b[1;32mc:\\Users\\ronit2007\\anaconda3\\Lib\\site-packages\\pandas\\core\\indexes\\base.py:3805\u001b[0m, in \u001b[0;36mIndex.get_loc\u001b[1;34m(self, key)\u001b[0m\n\u001b[0;32m   3804\u001b[0m \u001b[38;5;28;01mtry\u001b[39;00m:\n\u001b[1;32m-> 3805\u001b[0m     \u001b[38;5;28;01mreturn\u001b[39;00m \u001b[38;5;28mself\u001b[39m\u001b[38;5;241m.\u001b[39m_engine\u001b[38;5;241m.\u001b[39mget_loc(casted_key)\n\u001b[0;32m   3806\u001b[0m \u001b[38;5;28;01mexcept\u001b[39;00m \u001b[38;5;167;01mKeyError\u001b[39;00m \u001b[38;5;28;01mas\u001b[39;00m err:\n",
      "File \u001b[1;32mindex.pyx:167\u001b[0m, in \u001b[0;36mpandas._libs.index.IndexEngine.get_loc\u001b[1;34m()\u001b[0m\n",
      "File \u001b[1;32mindex.pyx:196\u001b[0m, in \u001b[0;36mpandas._libs.index.IndexEngine.get_loc\u001b[1;34m()\u001b[0m\n",
      "File \u001b[1;32mpandas\\\\_libs\\\\hashtable_class_helper.pxi:7081\u001b[0m, in \u001b[0;36mpandas._libs.hashtable.PyObjectHashTable.get_item\u001b[1;34m()\u001b[0m\n",
      "File \u001b[1;32mpandas\\\\_libs\\\\hashtable_class_helper.pxi:7089\u001b[0m, in \u001b[0;36mpandas._libs.hashtable.PyObjectHashTable.get_item\u001b[1;34m()\u001b[0m\n",
      "\u001b[1;31mKeyError\u001b[0m: ('BMI', 'Income')",
      "\nThe above exception was the direct cause of the following exception:\n",
      "\u001b[1;31mKeyError\u001b[0m                                  Traceback (most recent call last)",
      "Cell \u001b[1;32mIn[12], line 1\u001b[0m\n\u001b[1;32m----> 1\u001b[0m \u001b[38;5;28mprint\u001b[39m(Data[Data[\u001b[38;5;124m\"\u001b[39m\u001b[38;5;124mBMI\u001b[39m\u001b[38;5;124m\"\u001b[39m,\u001b[38;5;124m\"\u001b[39m\u001b[38;5;124mIncome\u001b[39m\u001b[38;5;124m\"\u001b[39m]]\u001b[38;5;241m.\u001b[39msum())\n",
      "File \u001b[1;32mc:\\Users\\ronit2007\\anaconda3\\Lib\\site-packages\\pandas\\core\\frame.py:4102\u001b[0m, in \u001b[0;36mDataFrame.__getitem__\u001b[1;34m(self, key)\u001b[0m\n\u001b[0;32m   4100\u001b[0m \u001b[38;5;28;01mif\u001b[39;00m \u001b[38;5;28mself\u001b[39m\u001b[38;5;241m.\u001b[39mcolumns\u001b[38;5;241m.\u001b[39mnlevels \u001b[38;5;241m>\u001b[39m \u001b[38;5;241m1\u001b[39m:\n\u001b[0;32m   4101\u001b[0m     \u001b[38;5;28;01mreturn\u001b[39;00m \u001b[38;5;28mself\u001b[39m\u001b[38;5;241m.\u001b[39m_getitem_multilevel(key)\n\u001b[1;32m-> 4102\u001b[0m indexer \u001b[38;5;241m=\u001b[39m \u001b[38;5;28mself\u001b[39m\u001b[38;5;241m.\u001b[39mcolumns\u001b[38;5;241m.\u001b[39mget_loc(key)\n\u001b[0;32m   4103\u001b[0m \u001b[38;5;28;01mif\u001b[39;00m is_integer(indexer):\n\u001b[0;32m   4104\u001b[0m     indexer \u001b[38;5;241m=\u001b[39m [indexer]\n",
      "File \u001b[1;32mc:\\Users\\ronit2007\\anaconda3\\Lib\\site-packages\\pandas\\core\\indexes\\base.py:3812\u001b[0m, in \u001b[0;36mIndex.get_loc\u001b[1;34m(self, key)\u001b[0m\n\u001b[0;32m   3807\u001b[0m     \u001b[38;5;28;01mif\u001b[39;00m \u001b[38;5;28misinstance\u001b[39m(casted_key, \u001b[38;5;28mslice\u001b[39m) \u001b[38;5;129;01mor\u001b[39;00m (\n\u001b[0;32m   3808\u001b[0m         \u001b[38;5;28misinstance\u001b[39m(casted_key, abc\u001b[38;5;241m.\u001b[39mIterable)\n\u001b[0;32m   3809\u001b[0m         \u001b[38;5;129;01mand\u001b[39;00m \u001b[38;5;28many\u001b[39m(\u001b[38;5;28misinstance\u001b[39m(x, \u001b[38;5;28mslice\u001b[39m) \u001b[38;5;28;01mfor\u001b[39;00m x \u001b[38;5;129;01min\u001b[39;00m casted_key)\n\u001b[0;32m   3810\u001b[0m     ):\n\u001b[0;32m   3811\u001b[0m         \u001b[38;5;28;01mraise\u001b[39;00m InvalidIndexError(key)\n\u001b[1;32m-> 3812\u001b[0m     \u001b[38;5;28;01mraise\u001b[39;00m \u001b[38;5;167;01mKeyError\u001b[39;00m(key) \u001b[38;5;28;01mfrom\u001b[39;00m \u001b[38;5;21;01merr\u001b[39;00m\n\u001b[0;32m   3813\u001b[0m \u001b[38;5;28;01mexcept\u001b[39;00m \u001b[38;5;167;01mTypeError\u001b[39;00m:\n\u001b[0;32m   3814\u001b[0m     \u001b[38;5;66;03m# If we have a listlike key, _check_indexing_error will raise\u001b[39;00m\n\u001b[0;32m   3815\u001b[0m     \u001b[38;5;66;03m#  InvalidIndexError. Otherwise we fall through and re-raise\u001b[39;00m\n\u001b[0;32m   3816\u001b[0m     \u001b[38;5;66;03m#  the TypeError.\u001b[39;00m\n\u001b[0;32m   3817\u001b[0m     \u001b[38;5;28mself\u001b[39m\u001b[38;5;241m.\u001b[39m_check_indexing_error(key)\n",
      "\u001b[1;31mKeyError\u001b[0m: ('BMI', 'Income')"
     ]
    }
   ],
   "source": [
    "print(Data[Data[\"BMI\",\"Income\"]].sum())"
   ]
  },
  {
   "cell_type": "code",
   "execution_count": 11,
   "id": "72f6c34f",
   "metadata": {},
   "outputs": [
    {
     "name": "stdout",
     "output_type": "stream",
     "text": [
      "              HighBP       HighChol      CholCheck            BMI  \\\n",
      "count  253664.000000  253669.000000  253668.000000  253669.000000   \n",
      "mean        0.429012       0.424108       0.962668      28.382364   \n",
      "std         0.494936       0.494208       0.189575       6.608666   \n",
      "min         0.000000       0.000000       0.000000      12.000000   \n",
      "25%         0.000000       0.000000       1.000000      24.000000   \n",
      "50%         0.000000       0.000000       1.000000      27.000000   \n",
      "75%         1.000000       1.000000       1.000000      31.000000   \n",
      "max         1.000000       1.000000       1.000000      98.000000   \n",
      "\n",
      "              Smoker         Stroke       Diabetes   PhysActivity  \\\n",
      "count  253664.000000  253670.000000  253662.000000  253670.000000   \n",
      "mean        0.443177       0.040572       0.296927       0.756550   \n",
      "std         0.496762       0.197298       0.698164       0.429165   \n",
      "min         0.000000       0.000000       0.000000       0.000000   \n",
      "25%         0.000000       0.000000       0.000000       1.000000   \n",
      "50%         0.000000       0.000000       0.000000       1.000000   \n",
      "75%         1.000000       0.000000       0.000000       1.000000   \n",
      "max         1.000000       1.000000       2.000000       1.000000   \n",
      "\n",
      "              Fruits        Veggies  ...  AnyHealthcare    NoDocbcCost  \\\n",
      "count  253665.000000  253666.000000  ...  253666.000000  253667.000000   \n",
      "mean        0.634262       0.811425  ...       0.951058       0.084177   \n",
      "std         0.481638       0.391171  ...       0.215748       0.277654   \n",
      "min         0.000000       0.000000  ...       0.000000       0.000000   \n",
      "25%         0.000000       1.000000  ...       1.000000       0.000000   \n",
      "50%         1.000000       1.000000  ...       1.000000       0.000000   \n",
      "75%         1.000000       1.000000  ...       1.000000       0.000000   \n",
      "max         1.000000       1.000000  ...       1.000000       1.000000   \n",
      "\n",
      "             GenHlth       MentHlth       PhysHlth       DiffWalk  \\\n",
      "count  253661.000000  253668.000000  253668.000000  253660.000000   \n",
      "mean        2.511411       3.184879       4.242049       0.168229   \n",
      "std         1.068501       7.413001       8.717988       0.374070   \n",
      "min         1.000000       0.000000       0.000000       0.000000   \n",
      "25%         2.000000       0.000000       0.000000       0.000000   \n",
      "50%         2.000000       0.000000       0.000000       0.000000   \n",
      "75%         3.000000       2.000000       3.000000       0.000000   \n",
      "max         5.000000      30.000000      30.000000       1.000000   \n",
      "\n",
      "                 Sex            Age      Education         Income  \n",
      "count  253664.000000  253668.000000  253664.000000  253660.000000  \n",
      "mean        0.440342       8.032180       5.050429       6.053911  \n",
      "std         0.496429       3.054195       0.985774       2.071093  \n",
      "min         0.000000       1.000000       1.000000       1.000000  \n",
      "25%         0.000000       6.000000       4.000000       5.000000  \n",
      "50%         0.000000       8.000000       5.000000       7.000000  \n",
      "75%         1.000000      10.000000       6.000000       8.000000  \n",
      "max         1.000000      13.000000       6.000000       8.000000  \n",
      "\n",
      "[8 rows x 21 columns]\n"
     ]
    }
   ],
   "source": [
    "print(Data.iloc[:,1:].describe())"
   ]
  },
  {
   "cell_type": "code",
   "execution_count": null,
   "id": "06ec4928",
   "metadata": {},
   "outputs": [],
   "source": []
  }
 ],
 "metadata": {
  "kernelspec": {
   "display_name": "base",
   "language": "python",
   "name": "python3"
  },
  "language_info": {
   "codemirror_mode": {
    "name": "ipython",
    "version": 3
   },
   "file_extension": ".py",
   "mimetype": "text/x-python",
   "name": "python",
   "nbconvert_exporter": "python",
   "pygments_lexer": "ipython3",
   "version": "3.12.7"
  }
 },
 "nbformat": 4,
 "nbformat_minor": 5
}
