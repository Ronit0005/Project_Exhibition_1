{
 "cells": [
  {
   "cell_type": "code",
   "execution_count": 1,
   "id": "cea002be-c746-4d20-b959-3e1553f5aacd",
   "metadata": {},
   "outputs": [],
   "source": [
    "from sklearn.pipeline import make_pipeline"
   ]
  },
  {
   "cell_type": "code",
   "execution_count": 2,
   "id": "396dcce2-e3db-4739-b905-24f963f9693d",
   "metadata": {},
   "outputs": [],
   "source": [
    "import pandas as pd"
   ]
  },
  {
   "cell_type": "code",
   "execution_count": 3,
   "id": "2961fe0d-9131-4a8a-ab5c-95e1eb032816",
   "metadata": {},
   "outputs": [],
   "source": [
    "from sklearn.pipeline import Pipeline"
   ]
  },
  {
   "cell_type": "code",
   "execution_count": 4,
   "id": "20903c0a-db4f-4898-adfd-c9b566e5081f",
   "metadata": {},
   "outputs": [],
   "source": [
    "from sklearn.impute import SimpleImputer"
   ]
  },
  {
   "cell_type": "code",
   "execution_count": 5,
   "id": "97cd1f67-4e7a-4ee6-b4d8-c6daeb5b3d63",
   "metadata": {},
   "outputs": [],
   "source": [
    "from sklearn.preprocessing import StandardScaler"
   ]
  },
  {
   "cell_type": "code",
   "execution_count": 6,
   "id": "fe1708ec-8f81-4412-9e5a-7113801d502c",
   "metadata": {},
   "outputs": [],
   "source": [
    "import numpy as np"
   ]
  },
  {
   "cell_type": "code",
   "execution_count": 7,
   "id": "673ad0af-f24c-4e2a-b299-c68627cb7a34",
   "metadata": {},
   "outputs": [],
   "source": [
    "from sklearn.preprocessing import OneHotEncoder"
   ]
  },
  {
   "cell_type": "code",
   "execution_count": 8,
   "id": "eb823369-caa6-45a7-8a91-8e862711380a",
   "metadata": {},
   "outputs": [],
   "source": [
    "Data = pd.read_csv(\"Training_set.csv\")"
   ]
  },
  {
   "cell_type": "code",
   "execution_count": 9,
   "id": "24223d8e-7e08-45aa-8564-0c5b9d139599",
   "metadata": {},
   "outputs": [],
   "source": [
    "Data.dropna(subset=['Blood Pressure'], inplace=True)\n",
    "Data[['Systolic Blood Pressure', 'Diastolic Blood Pressure']] = Data['Blood Pressure'].str.split('/', expand=True).astype(float)\n",
    "Data.drop(\"Blood Pressure\",axis=1,inplace=True)"
   ]
  },
  {
   "cell_type": "markdown",
   "id": "5786938d-d87b-4595-910b-f65ca3d21b06",
   "metadata": {},
   "source": [
    "Splitting the data into numerical and categorical data"
   ]
  },
  {
   "cell_type": "code",
   "execution_count": 11,
   "id": "a2698d3b-b2df-4687-b308-b200d96e58a6",
   "metadata": {},
   "outputs": [],
   "source": [
    "Data_nums = Data.select_dtypes(include=[np.number])"
   ]
  },
  {
   "cell_type": "code",
   "execution_count": 12,
   "id": "f1f66131-cf21-4f10-8580-b9ecde941c72",
   "metadata": {},
   "outputs": [],
   "source": [
    "Data_cat = Data.select_dtypes(include=[object])"
   ]
  },
  {
   "cell_type": "markdown",
   "id": "c448d450-32ab-409d-a5d0-1d40fd455a43",
   "metadata": {},
   "source": [
    "Creating a numerical pipeline"
   ]
  },
  {
   "cell_type": "code",
   "execution_count": 14,
   "id": "a59bef8d-1fb3-4d11-bc0d-591c00ba56bd",
   "metadata": {},
   "outputs": [],
   "source": [
    "num_pipeline = Pipeline([\n",
    "(\"impute\", SimpleImputer(strategy=\"median\")),\n",
    "(\"standardize\", StandardScaler()),\n",
    "])"
   ]
  },
  {
   "cell_type": "code",
   "execution_count": 15,
   "id": "6d3e0b8c-22fd-4507-9bb7-69d37fdfb3bf",
   "metadata": {},
   "outputs": [],
   "source": [
    "num_pipeline = make_pipeline(SimpleImputer(strategy=\"median\"), StandardScaler())"
   ]
  },
  {
   "cell_type": "code",
   "execution_count": 16,
   "id": "83a2cf98-4875-422c-a3d7-6f7cede18393",
   "metadata": {},
   "outputs": [],
   "source": [
    "num_prepared = num_pipeline.fit_transform(Data_nums)"
   ]
  },
  {
   "cell_type": "code",
   "execution_count": 17,
   "id": "a0fe165f-3386-4f3c-9c01-447ffd5b7655",
   "metadata": {},
   "outputs": [],
   "source": [
    "num_prepared = pd.DataFrame(\n",
    " num_prepared,\n",
    " columns=num_pipeline.get_feature_names_out(),\n",
    " index=Data_nums.index\n",
    ")"
   ]
  },
  {
   "cell_type": "code",
   "execution_count": 18,
   "id": "034ad9f0-fca2-4459-acaf-612b9cb844ee",
   "metadata": {},
   "outputs": [
    {
     "name": "stdout",
     "output_type": "stream",
     "text": [
      "    Age  Cholesterol  Heart Rate  Diabetes  Family History  Smoking  Obesity  \\\n",
      "0 -1.40         0.29       -0.58     -1.38           -0.99     0.34     0.99   \n",
      "1 -0.27         1.24       -0.44     -1.38           -0.99     0.34    -1.01   \n",
      "\n",
      "   Alcohol Consumption  Exercise Hours Per Week  Previous Heart Problems  ...  \\\n",
      "0                 0.83                    -0.85                     -1.0  ...   \n",
      "1                 0.83                    -1.59                     -1.0  ...   \n",
      "\n",
      "   Sedentary Hours Per Day  Income   BMI  Triglycerides  \\\n",
      "0                    -0.79    1.74 -0.83           1.24   \n",
      "1                    -1.01    0.11  1.06          -1.51   \n",
      "\n",
      "   Physical Activity Days Per Week  Sleep Hours Per Day  Heart Attack Risk  \\\n",
      "0                             0.66                 0.99              -0.74   \n",
      "1                            -1.10                 0.99              -0.74   \n",
      "\n",
      "   cholestrol_cat  Systolic Blood Pressure  Diastolic Blood Pressure  \n",
      "0            0.56                     0.64                      0.87  \n",
      "1            0.56                    -1.17                     -0.43  \n",
      "\n",
      "[2 rows x 22 columns]\n"
     ]
    }
   ],
   "source": [
    "print(num_prepared[:2].round(2))"
   ]
  },
  {
   "cell_type": "markdown",
   "id": "a7693157-d2aa-4099-9352-098748be6e32",
   "metadata": {},
   "source": [
    "Creating a categorical pipeline "
   ]
  },
  {
   "cell_type": "code",
   "execution_count": 20,
   "id": "c7ccdffd-aee1-4985-93a7-63f6f269239f",
   "metadata": {},
   "outputs": [],
   "source": [
    "Data_cat = Data_cat.drop(\"Patient ID\",axis=1)"
   ]
  },
  {
   "cell_type": "code",
   "execution_count": 21,
   "id": "b983ff70-3762-4837-b272-a431dfad8140",
   "metadata": {},
   "outputs": [],
   "source": [
    "cat_pipeline = Pipeline([\n",
    "(\"onehot\", OneHotEncoder(handle_unknown=\"ignore\"))\n",
    "])"
   ]
  },
  {
   "cell_type": "code",
   "execution_count": 22,
   "id": "4e415340-a450-45ad-b67b-fad4331491a4",
   "metadata": {},
   "outputs": [],
   "source": [
    "cat_pipeline = make_pipeline(OneHotEncoder())"
   ]
  },
  {
   "cell_type": "code",
   "execution_count": 23,
   "id": "4bfdd083-9446-4613-80a7-176aae459631",
   "metadata": {},
   "outputs": [],
   "source": [
    "cat_prepared = cat_pipeline.fit_transform(Data_cat)"
   ]
  },
  {
   "cell_type": "code",
   "execution_count": 24,
   "id": "77618121-6545-4e81-b001-aab24fb9823f",
   "metadata": {},
   "outputs": [],
   "source": [
    "cat_prepared= cat_prepared.toarray()"
   ]
  },
  {
   "cell_type": "code",
   "execution_count": 25,
   "id": "2e6683d8-e618-4faf-9c73-a773a45c4a56",
   "metadata": {},
   "outputs": [
    {
     "name": "stdout",
     "output_type": "stream",
     "text": [
      "[[0. 1. 0. 1. 0. 0. 0. 0. 0. 0. 0. 0. 0. 0. 0. 0. 0. 0. 0. 0. 0. 0. 0. 0.\n",
      "  1. 0. 0. 0. 0. 0. 0. 1. 0. 0. 0. 1. 0. 0.]\n",
      " [0. 1. 0. 1. 0. 0. 0. 0. 0. 0. 0. 0. 0. 0. 0. 0. 0. 0. 0. 1. 0. 0. 0. 0.\n",
      "  0. 0. 0. 0. 1. 0. 0. 0. 0. 0. 0. 1. 0. 0.]]\n"
     ]
    }
   ],
   "source": [
    "print(cat_prepared[:2])"
   ]
  },
  {
   "cell_type": "code",
   "execution_count": 26,
   "id": "73caecdd-241d-4b3c-b4f4-a71f9efbb1f1",
   "metadata": {},
   "outputs": [
    {
     "name": "stdout",
     "output_type": "stream",
     "text": [
      "(6984, 38)\n"
     ]
    }
   ],
   "source": [
    "print(cat_prepared.shape)"
   ]
  }
 ],
 "metadata": {
  "kernelspec": {
   "display_name": "Python [conda env:base] *",
   "language": "python",
   "name": "conda-base-py"
  },
  "language_info": {
   "codemirror_mode": {
    "name": "ipython",
    "version": 3
   },
   "file_extension": ".py",
   "mimetype": "text/x-python",
   "name": "python",
   "nbconvert_exporter": "python",
   "pygments_lexer": "ipython3",
   "version": "3.12.7"
  }
 },
 "nbformat": 4,
 "nbformat_minor": 5
}
