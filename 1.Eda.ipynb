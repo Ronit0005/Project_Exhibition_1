{
 "cells": [
  {
   "cell_type": "markdown",
   "id": "b33bfc8c",
   "metadata": {},
   "source": [
    "Data Visualisation "
   ]
  },
  {
   "cell_type": "code",
   "execution_count": 6,
   "id": "4af89966",
   "metadata": {},
   "outputs": [],
   "source": [
    "import pandas as pd"
   ]
  },
  {
   "cell_type": "code",
   "execution_count": 8,
   "id": "4275f8e9",
   "metadata": {},
   "outputs": [],
   "source": [
    "Data = pd.read_csv(\"main_set.csv\")"
   ]
  },
  {
   "cell_type": "code",
   "execution_count": 12,
   "id": "7b1e5edc-661e-41cb-90e8-eef93549e153",
   "metadata": {},
   "outputs": [
    {
     "name": "stdout",
     "output_type": "stream",
     "text": [
      "Index(['Patient ID', 'Age', 'Sex', 'Cholesterol', 'Blood Pressure',\n",
      "       'Heart Rate', 'Diabetes', 'Family History', 'Smoking', 'Obesity',\n",
      "       'Alcohol Consumption', 'Exercise Hours Per Week', 'Diet',\n",
      "       'Previous Heart Problems', 'Medication Use', 'Stress Level',\n",
      "       'Sedentary Hours Per Day', 'Income', 'BMI', 'Triglycerides',\n",
      "       'Physical Activity Days Per Week', 'Sleep Hours Per Day', 'Country',\n",
      "       'Continent', 'Hemisphere', 'Heart Attack Risk'],\n",
      "      dtype='object')\n"
     ]
    }
   ],
   "source": [
    "print(Data.columns)"
   ]
  },
  {
   "cell_type": "markdown",
   "id": "833f5091-783e-4d43-b71f-4ccbc0db2c24",
   "metadata": {},
   "source": [
    "Using head() and tail() method to get a quick review of the dataset"
   ]
  },
  {
   "cell_type": "code",
   "execution_count": 6,
   "id": "8a62c1b6",
   "metadata": {},
   "outputs": [
    {
     "name": "stdout",
     "output_type": "stream",
     "text": [
      "  Patient ID   Age     Sex  Cholesterol Blood Pressure  Heart Rate  Diabetes  \\\n",
      "0    BMW7812  67.0    Male        208.0         158/88        72.0       0.0   \n",
      "1    CZE1114  21.0    Male        389.0         165/93        98.0       1.0   \n",
      "2    BNI9906  21.0  Female        324.0         174/99        72.0       1.0   \n",
      "3    JLN3497  84.0    Male        383.0        163/100        73.0       1.0   \n",
      "4    GFO8847  66.0    Male        318.0          91/88        93.0       1.0   \n",
      "\n",
      "   Family History  Smoking  Obesity  ...  Sedentary Hours Per Day    Income  \\\n",
      "0             0.0      1.0      0.0  ...                 6.615001  261404.0   \n",
      "1             1.0      1.0      1.0  ...                 4.963459  285768.0   \n",
      "2             0.0      0.0      0.0  ...                 9.463426  235282.0   \n",
      "3             1.0      1.0      0.0  ...                 7.648981  125640.0   \n",
      "4             1.0      1.0      1.0  ...                 1.514821  160555.0   \n",
      "\n",
      "         BMI  Triglycerides  Physical Activity Days Per Week  \\\n",
      "0  31.251233          286.0                              0.0   \n",
      "1  27.194973          235.0                              1.0   \n",
      "2  28.176571          587.0                              4.0   \n",
      "3  36.464704          378.0                              3.0   \n",
      "4  21.809144          231.0                              1.0   \n",
      "\n",
      "   Sleep Hours Per Day    Country      Continent           Hemisphere  \\\n",
      "0                  6.0  Argentina  South America  Southern Hemisphere   \n",
      "1                  7.0     Canada  North America  Northern Hemisphere   \n",
      "2                  4.0     France         Europe  Northern Hemisphere   \n",
      "3                  4.0     Canada  North America  Northern Hemisphere   \n",
      "4                  5.0   Thailand           Asia  Northern Hemisphere   \n",
      "\n",
      "   Heart Attack Risk  \n",
      "0                  0  \n",
      "1                  0  \n",
      "2                  0  \n",
      "3                  0  \n",
      "4                  0  \n",
      "\n",
      "[5 rows x 26 columns]\n",
      "------------------------------------------------------------------------------------------------------------------------\n",
      "     Patient ID   Age     Sex  Cholesterol Blood Pressure  Heart Rate  \\\n",
      "8758    MSV9918  60.0    Male        121.0          94/76        61.0   \n",
      "8759    QSV6764  28.0  Female        120.0        157/102        73.0   \n",
      "8760    XKA5925  47.0    Male        250.0         161/75       105.0   \n",
      "8761    EPE6801  36.0    Male        178.0         119/67        60.0   \n",
      "8762    ZWN9666  25.0  Female        356.0         138/67        75.0   \n",
      "\n",
      "      Diabetes  Family History  Smoking  Obesity  ...  \\\n",
      "8758       1.0             1.0      1.0      0.0  ...   \n",
      "8759       1.0             0.0      0.0      1.0  ...   \n",
      "8760       0.0             1.0      1.0      1.0  ...   \n",
      "8761       1.0             0.0      1.0      0.0  ...   \n",
      "8762       1.0             1.0      0.0      0.0  ...   \n",
      "\n",
      "      Sedentary Hours Per Day    Income        BMI  Triglycerides  \\\n",
      "8758                10.806373  235420.0  19.655895           67.0   \n",
      "8759                 3.833038  217881.0  23.993866          617.0   \n",
      "8760                 2.375214   36998.0  35.406146          527.0   \n",
      "8761                 0.029104  209943.0  27.294020          114.0   \n",
      "8762                 9.005234  247338.0  32.914151          180.0   \n",
      "\n",
      "      Physical Activity Days Per Week  Sleep Hours Per Day         Country  \\\n",
      "8758                              7.0                  7.0        Thailand   \n",
      "8759                              4.0                  9.0          Canada   \n",
      "8760                              4.0                  4.0          Brazil   \n",
      "8761                              2.0                  8.0          Brazil   \n",
      "8762                              7.0                  4.0  United Kingdom   \n",
      "\n",
      "          Continent           Hemisphere  Heart Attack Risk  \n",
      "8758           Asia  Northern Hemisphere                  0  \n",
      "8759  North America  Northern Hemisphere                  0  \n",
      "8760  South America  Southern Hemisphere                  1  \n",
      "8761  South America  Southern Hemisphere                  0  \n",
      "8762         Europe  Northern Hemisphere                  1  \n",
      "\n",
      "[5 rows x 26 columns]\n"
     ]
    }
   ],
   "source": [
    "print(Data.head())   # Top 5 rows in the dataset\n",
    "print(\"------------------------------------------------------------------------------------------------------------------------\")\n",
    "print(Data.tail())     # Last 5 rows in the dataset"
   ]
  },
  {
   "cell_type": "markdown",
   "id": "253a88c9-5952-4a45-ab71-7e013841bdd2",
   "metadata": {},
   "source": [
    "Using info() method to get the number of null entries in the dataset"
   ]
  },
  {
   "cell_type": "code",
   "execution_count": 8,
   "id": "e3361c1b",
   "metadata": {},
   "outputs": [
    {
     "name": "stdout",
     "output_type": "stream",
     "text": [
      "<class 'pandas.core.frame.DataFrame'>\n",
      "RangeIndex: 8763 entries, 0 to 8762\n",
      "Data columns (total 26 columns):\n",
      " #   Column                           Non-Null Count  Dtype  \n",
      "---  ------                           --------------  -----  \n",
      " 0   Patient ID                       8763 non-null   object \n",
      " 1   Age                              8751 non-null   float64\n",
      " 2   Sex                              8746 non-null   object \n",
      " 3   Cholesterol                      8752 non-null   float64\n",
      " 4   Blood Pressure                   8743 non-null   object \n",
      " 5   Heart Rate                       8748 non-null   float64\n",
      " 6   Diabetes                         8747 non-null   float64\n",
      " 7   Family History                   8745 non-null   float64\n",
      " 8   Smoking                          8748 non-null   float64\n",
      " 9   Obesity                          8750 non-null   float64\n",
      " 10  Alcohol Consumption              8749 non-null   float64\n",
      " 11  Exercise Hours Per Week          8750 non-null   float64\n",
      " 12  Diet                             8753 non-null   object \n",
      " 13  Previous Heart Problems          8751 non-null   float64\n",
      " 14  Medication Use                   8745 non-null   float64\n",
      " 15  Stress Level                     8746 non-null   float64\n",
      " 16  Sedentary Hours Per Day          8750 non-null   float64\n",
      " 17  Income                           8753 non-null   float64\n",
      " 18  BMI                              8745 non-null   float64\n",
      " 19  Triglycerides                    8748 non-null   float64\n",
      " 20  Physical Activity Days Per Week  8752 non-null   float64\n",
      " 21  Sleep Hours Per Day              8745 non-null   float64\n",
      " 22  Country                          8753 non-null   object \n",
      " 23  Continent                        8751 non-null   object \n",
      " 24  Hemisphere                       8750 non-null   object \n",
      " 25  Heart Attack Risk                8763 non-null   int64  \n",
      "dtypes: float64(18), int64(1), object(7)\n",
      "memory usage: 1.7+ MB\n",
      "None\n"
     ]
    }
   ],
   "source": [
    "print(Data.info())"
   ]
  },
  {
   "cell_type": "markdown",
   "id": "ff6e33ae-93bb-4746-994f-2ffad6d0c9a7",
   "metadata": {},
   "source": [
    "Providing statistical summary for all numeric data"
   ]
  },
  {
   "cell_type": "code",
   "execution_count": 10,
   "id": "72f6c34f",
   "metadata": {},
   "outputs": [
    {
     "name": "stdout",
     "output_type": "stream",
     "text": [
      "               Age  Cholesterol   Heart Rate     Diabetes  Family History  \\\n",
      "count  8751.000000  8752.000000  8748.000000  8747.000000     8745.000000   \n",
      "mean     53.719118   259.873058    75.012117     0.652338        0.492624   \n",
      "std      21.247627    80.875992    20.551471     0.476255        0.499974   \n",
      "min      18.000000   120.000000    40.000000     0.000000        0.000000   \n",
      "25%      35.000000   192.000000    57.000000     0.000000        0.000000   \n",
      "50%      54.000000   259.000000    75.000000     1.000000        0.000000   \n",
      "75%      72.000000   330.000000    93.000000     1.000000        1.000000   \n",
      "max      90.000000   400.000000   110.000000     1.000000        1.000000   \n",
      "\n",
      "           Smoking      Obesity  Alcohol Consumption  Exercise Hours Per Week  \\\n",
      "count  8748.000000  8750.000000          8749.000000              8750.000000   \n",
      "mean      0.896891     0.501143             0.597783                10.010944   \n",
      "std       0.304119     0.500027             0.490373                 5.785382   \n",
      "min       0.000000     0.000000             0.000000                 0.002442   \n",
      "25%       1.000000     0.000000             0.000000                 4.978491   \n",
      "50%       1.000000     1.000000             1.000000                10.067336   \n",
      "75%       1.000000     1.000000             1.000000                15.051013   \n",
      "max       1.000000     1.000000             1.000000                19.998709   \n",
      "\n",
      "       Previous Heart Problems  Medication Use  Stress Level  \\\n",
      "count              8751.000000     8745.000000   8746.000000   \n",
      "mean                  0.496058        0.497999      5.469472   \n",
      "std                   0.500013        0.500025      2.859115   \n",
      "min                   0.000000        0.000000      1.000000   \n",
      "25%                   0.000000        0.000000      3.000000   \n",
      "50%                   0.000000        0.000000      5.000000   \n",
      "75%                   1.000000        1.000000      8.000000   \n",
      "max                   1.000000        1.000000     10.000000   \n",
      "\n",
      "       Sedentary Hours Per Day         Income          BMI  Triglycerides  \\\n",
      "count              8750.000000    8753.000000  8745.000000    8748.000000   \n",
      "mean                  5.996406  158223.036787    28.893287     417.673297   \n",
      "std                   3.466130   80578.542599     6.318049     223.763382   \n",
      "min                   0.001263   20062.000000    18.002337      30.000000   \n",
      "25%                   3.000299   88242.000000    23.421575     225.000000   \n",
      "50%                   5.937437  157825.000000    28.770326     417.000000   \n",
      "75%                   9.019627  227656.000000    34.322414     612.000000   \n",
      "max                  11.999313  299954.000000    39.997211     800.000000   \n",
      "\n",
      "       Physical Activity Days Per Week  Sleep Hours Per Day  Heart Attack Risk  \n",
      "count                      8752.000000          8745.000000        8763.000000  \n",
      "mean                          3.489717             7.023556           0.358211  \n",
      "std                           2.283102             1.988794           0.479502  \n",
      "min                           0.000000             4.000000           0.000000  \n",
      "25%                           2.000000             5.000000           0.000000  \n",
      "50%                           3.000000             7.000000           0.000000  \n",
      "75%                           5.000000             9.000000           1.000000  \n",
      "max                           7.000000            10.000000           1.000000  \n"
     ]
    }
   ],
   "source": [
    "print(Data.iloc[:,1:].describe())"
   ]
  }
 ],
 "metadata": {
  "kernelspec": {
   "display_name": "Python [conda env:base] *",
   "language": "python",
   "name": "conda-base-py"
  },
  "language_info": {
   "codemirror_mode": {
    "name": "ipython",
    "version": 3
   },
   "file_extension": ".py",
   "mimetype": "text/x-python",
   "name": "python",
   "nbconvert_exporter": "python",
   "pygments_lexer": "ipython3",
   "version": "3.12.7"
  }
 },
 "nbformat": 4,
 "nbformat_minor": 5
}
