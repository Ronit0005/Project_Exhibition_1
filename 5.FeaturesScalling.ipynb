{
 "cells": [
  {
   "cell_type": "code",
   "execution_count": 2,
   "id": "b6515666-0291-4bf0-9ead-2f1e88af01e1",
   "metadata": {},
   "outputs": [],
   "source": [
    "import pandas as pd"
   ]
  },
  {
   "cell_type": "code",
   "execution_count": 3,
   "id": "29969470-f9df-4c2d-8534-08820d236f80",
   "metadata": {},
   "outputs": [],
   "source": [
    "import numpy as np"
   ]
  },
  {
   "cell_type": "code",
   "execution_count": 4,
   "id": "cdafaddb-dbc1-4e41-b15d-ecd90c884613",
   "metadata": {},
   "outputs": [],
   "source": [
    "from sklearn.preprocessing import OneHotEncoder"
   ]
  },
  {
   "cell_type": "code",
   "execution_count": 5,
   "id": "d3914cd3-634c-4415-9a77-a9d8b929fef7",
   "metadata": {},
   "outputs": [],
   "source": [
    "from sklearn.preprocessing import StandardScaler"
   ]
  },
  {
   "cell_type": "code",
   "execution_count": 6,
   "id": "b6003eca-9ec0-4fe3-8b1e-fece265586b0",
   "metadata": {},
   "outputs": [],
   "source": [
    "Data = pd.read_csv(\"Training_set2.csv\")"
   ]
  },
  {
   "cell_type": "code",
   "execution_count": 7,
   "id": "1662ef56-a432-4e4a-aa04-94063ba0d2bc",
   "metadata": {},
   "outputs": [],
   "source": [
    "Data_nums = Data.select_dtypes(include=[np.number])"
   ]
  },
  {
   "cell_type": "code",
   "execution_count": 8,
   "id": "47305e22-c3db-4de8-bedc-939e73868873",
   "metadata": {},
   "outputs": [],
   "source": [
    "Data_cat = Data.select_dtypes(include=[object])"
   ]
  },
  {
   "cell_type": "code",
   "execution_count": 39,
   "id": "c071b864-f480-4679-9e3a-9b6fd098d16e",
   "metadata": {},
   "outputs": [
    {
     "name": "stdout",
     "output_type": "stream",
     "text": [
      "         Sex       Diet        Country      Continent           Hemisphere\n",
      "0       Male  Unhealthy    South Korea           Asia  Northern Hemisphere\n",
      "1       Male  Unhealthy         Brazil  South America  Southern Hemisphere\n",
      "2       Male    Average    New Zealand      Australia  Southern Hemisphere\n",
      "3       Male  Unhealthy   South Africa         Africa  Southern Hemisphere\n",
      "4     Female  Unhealthy       Colombia  South America  Northern Hemisphere\n",
      "...      ...        ...            ...            ...                  ...\n",
      "6996  Female    Average      Argentina  South America  Southern Hemisphere\n",
      "6997    Male    Healthy        Germany         Europe  Northern Hemisphere\n",
      "6998    Male    Average         Brazil  South America  Southern Hemisphere\n",
      "6999  Female    Healthy    New Zealand      Australia  Southern Hemisphere\n",
      "7000    Male  Unhealthy  United States  North America  Northern Hemisphere\n",
      "\n",
      "[7001 rows x 5 columns]\n"
     ]
    }
   ],
   "source": [
    "print(Data_cat)"
   ]
  },
  {
   "cell_type": "code",
   "execution_count": 9,
   "id": "9558ea9b-1506-41a9-9a23-c19c16f3cba9",
   "metadata": {},
   "outputs": [],
   "source": [
    "standard_scaler = StandardScaler()\n",
    "x = standard_scaler.fit_transform(Data_nums)"
   ]
  },
  {
   "cell_type": "code",
   "execution_count": 10,
   "id": "6d95672d-6676-4714-9064-bed10e6cdd36",
   "metadata": {},
   "outputs": [
    {
     "name": "stdout",
     "output_type": "stream",
     "text": [
      "<class 'numpy.ndarray'>\n"
     ]
    }
   ],
   "source": [
    "print(type(x))"
   ]
  },
  {
   "cell_type": "code",
   "execution_count": 11,
   "id": "cf81e188-b8f6-4b73-b692-790390c41ec4",
   "metadata": {},
   "outputs": [
    {
     "name": "stdout",
     "output_type": "stream",
     "text": [
      "(7001, 20)\n"
     ]
    }
   ],
   "source": [
    "print(x.shape)"
   ]
  },
  {
   "cell_type": "code",
   "execution_count": 12,
   "id": "0a793836-5326-4f74-bd92-6be09e96c529",
   "metadata": {},
   "outputs": [],
   "source": [
    "Data2_nums = pd.DataFrame(x, columns=Data_nums.columns, index=Data_nums.index)"
   ]
  },
  {
   "cell_type": "markdown",
   "id": "42d9e3b3-31bc-4793-8dd1-fcd3ab56ac9a",
   "metadata": {},
   "source": [
    "Handling THe Categorical Data"
   ]
  },
  {
   "cell_type": "code",
   "execution_count": 14,
   "id": "7156c35d-c56d-484f-b950-217d208df73b",
   "metadata": {},
   "outputs": [],
   "source": [
    "cat_encoder = OneHotEncoder()\n",
    "y = cat_encoder.fit_transform(Data_cat)"
   ]
  },
  {
   "cell_type": "code",
   "execution_count": 15,
   "id": "53200c21-7f59-4e70-9681-405f47d09f80",
   "metadata": {},
   "outputs": [],
   "source": [
    "y= y.toarray()"
   ]
  },
  {
   "cell_type": "code",
   "execution_count": 16,
   "id": "7df78030-ec20-499e-b4fc-8747c446ead6",
   "metadata": {},
   "outputs": [
    {
     "name": "stdout",
     "output_type": "stream",
     "text": [
      "(7001, 33)\n"
     ]
    }
   ],
   "source": [
    "print(y.shape)"
   ]
  },
  {
   "cell_type": "code",
   "execution_count": 17,
   "id": "1e40ed50-60ed-4388-bfcd-97c054479fb4",
   "metadata": {},
   "outputs": [
    {
     "name": "stdout",
     "output_type": "stream",
     "text": [
      "<class 'numpy.ndarray'>\n"
     ]
    }
   ],
   "source": [
    "print(type(y))"
   ]
  },
  {
   "cell_type": "code",
   "execution_count": 18,
   "id": "0fbbf064-eec3-414b-b0ff-e3661e19e3af",
   "metadata": {},
   "outputs": [],
   "source": [
    "z = np.concatenate((x, y), axis=1)"
   ]
  },
  {
   "cell_type": "code",
   "execution_count": 19,
   "id": "204a0dbb-7077-4d38-96a2-029a5667c689",
   "metadata": {},
   "outputs": [
    {
     "name": "stdout",
     "output_type": "stream",
     "text": [
      "(7001, 53)\n"
     ]
    }
   ],
   "source": [
    "print(z.shape)"
   ]
  },
  {
   "cell_type": "code",
   "execution_count": 20,
   "id": "f3af3a01-1595-4351-9f5f-d44cc76dc1e2",
   "metadata": {},
   "outputs": [
    {
     "name": "stdout",
     "output_type": "stream",
     "text": [
      "[ 0.39089548 -0.72710088 -0.67203344  0.73049669 -0.98652134  0.33383568\n",
      " -0.99757472  0.81664237  0.31062569  1.00587356 -0.99501315  0.18301681\n",
      " -1.11202623  1.17454142 -0.74608456 -0.52420597  1.09180979  0.50207408\n",
      "  1.03235903  1.42048086  0.          1.          0.          0.\n",
      "  1.          0.          0.          0.          0.          0.\n",
      "  0.          0.          0.          0.          0.          0.\n",
      "  0.          0.          0.          1.          0.          0.\n",
      "  0.          0.          0.          0.          1.          0.\n",
      "  0.          0.          0.          1.          0.        ]\n"
     ]
    }
   ],
   "source": [
    "print(z[0])"
   ]
  }
 ],
 "metadata": {
  "kernelspec": {
   "display_name": "Python [conda env:base] *",
   "language": "python",
   "name": "conda-base-py"
  },
  "language_info": {
   "codemirror_mode": {
    "name": "ipython",
    "version": 3
   },
   "file_extension": ".py",
   "mimetype": "text/x-python",
   "name": "python",
   "nbconvert_exporter": "python",
   "pygments_lexer": "ipython3",
   "version": "3.12.7"
  }
 },
 "nbformat": 4,
 "nbformat_minor": 5
}
