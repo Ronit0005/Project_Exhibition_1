{
 "cells": [
  {
   "cell_type": "code",
   "execution_count": 5,
   "id": "cea002be-c746-4d20-b959-3e1553f5aacd",
   "metadata": {},
   "outputs": [],
   "source": [
    "from sklearn.pipeline import make_pipeline"
   ]
  },
  {
   "cell_type": "code",
   "execution_count": 6,
   "id": "396dcce2-e3db-4739-b905-24f963f9693d",
   "metadata": {},
   "outputs": [],
   "source": [
    "import pandas as pd"
   ]
  },
  {
   "cell_type": "code",
   "execution_count": 7,
   "id": "2961fe0d-9131-4a8a-ab5c-95e1eb032816",
   "metadata": {},
   "outputs": [],
   "source": [
    "from sklearn.pipeline import Pipeline"
   ]
  },
  {
   "cell_type": "code",
   "execution_count": 8,
   "id": "20903c0a-db4f-4898-adfd-c9b566e5081f",
   "metadata": {},
   "outputs": [],
   "source": [
    "from sklearn.impute import SimpleImputer"
   ]
  },
  {
   "cell_type": "code",
   "execution_count": 9,
   "id": "97cd1f67-4e7a-4ee6-b4d8-c6daeb5b3d63",
   "metadata": {},
   "outputs": [],
   "source": [
    "from sklearn.preprocessing import StandardScaler"
   ]
  },
  {
   "cell_type": "code",
   "execution_count": 10,
   "id": "fe1708ec-8f81-4412-9e5a-7113801d502c",
   "metadata": {},
   "outputs": [],
   "source": [
    "import numpy as np"
   ]
  },
  {
   "cell_type": "code",
   "execution_count": 11,
   "id": "673ad0af-f24c-4e2a-b299-c68627cb7a34",
   "metadata": {},
   "outputs": [],
   "source": [
    "from sklearn.preprocessing import OneHotEncoder"
   ]
  },
  {
   "cell_type": "code",
   "execution_count": 12,
   "id": "eb823369-caa6-45a7-8a91-8e862711380a",
   "metadata": {},
   "outputs": [],
   "source": [
    "Data = pd.read_csv(\"Training_set.csv\")"
   ]
  },
  {
   "cell_type": "code",
   "execution_count": 13,
   "id": "227be571-4548-44a5-b727-41dedc8ab8a5",
   "metadata": {},
   "outputs": [],
   "source": [
    "Data_Labels=Data[\"Heart Attack Risk\"]"
   ]
  },
  {
   "cell_type": "code",
   "execution_count": 14,
   "id": "24223d8e-7e08-45aa-8564-0c5b9d139599",
   "metadata": {},
   "outputs": [],
   "source": [
    "Data.dropna(subset=['Blood Pressure'], inplace=True)\n",
    "Data[['Systolic Blood Pressure', 'Diastolic Blood Pressure']] = Data['Blood Pressure'].str.split('/', expand=True).astype(float)\n",
    "Data.drop(\"Blood Pressure\",axis=1,inplace=True)"
   ]
  },
  {
   "cell_type": "markdown",
   "id": "5786938d-d87b-4595-910b-f65ca3d21b06",
   "metadata": {},
   "source": [
    "Splitting the data into numerical and categorical data"
   ]
  },
  {
   "cell_type": "code",
   "execution_count": 16,
   "id": "a2698d3b-b2df-4687-b308-b200d96e58a6",
   "metadata": {},
   "outputs": [],
   "source": [
    "Data_nums = Data.select_dtypes(include=[np.number])"
   ]
  },
  {
   "cell_type": "code",
   "execution_count": 17,
   "id": "f1f66131-cf21-4f10-8580-b9ecde941c72",
   "metadata": {},
   "outputs": [],
   "source": [
    "Data_cat = Data.select_dtypes(include=[object])"
   ]
  },
  {
   "cell_type": "markdown",
   "id": "c448d450-32ab-409d-a5d0-1d40fd455a43",
   "metadata": {},
   "source": [
    "Creating a numerical pipeline"
   ]
  },
  {
   "cell_type": "code",
   "execution_count": 25,
   "id": "c7ccdffd-aee1-4985-93a7-63f6f269239f",
   "metadata": {},
   "outputs": [],
   "source": [
    "Data_cat = Data_cat.drop(\"Patient ID\",axis=1)"
   ]
  },
  {
   "cell_type": "code",
   "execution_count": 19,
   "id": "a59bef8d-1fb3-4d11-bc0d-591c00ba56bd",
   "metadata": {},
   "outputs": [],
   "source": [
    "num_pipeline = Pipeline([\n",
    "(\"impute\", SimpleImputer(strategy=\"median\")),\n",
    "(\"standardize\", StandardScaler()),\n",
    "])"
   ]
  },
  {
   "cell_type": "code",
   "execution_count": 20,
   "id": "6d3e0b8c-22fd-4507-9bb7-69d37fdfb3bf",
   "metadata": {},
   "outputs": [],
   "source": [
    "num_pipeline = make_pipeline(SimpleImputer(strategy=\"median\"), StandardScaler())"
   ]
  },
  {
   "cell_type": "code",
   "execution_count": 21,
   "id": "83a2cf98-4875-422c-a3d7-6f7cede18393",
   "metadata": {},
   "outputs": [],
   "source": [
    "num_prepared = num_pipeline.fit_transform(Data_nums)"
   ]
  },
  {
   "cell_type": "code",
   "execution_count": 22,
   "id": "a0fe165f-3386-4f3c-9c01-447ffd5b7655",
   "metadata": {},
   "outputs": [],
   "source": [
    "num_prepared = pd.DataFrame(\n",
    " num_prepared,\n",
    " columns=num_pipeline.get_feature_names_out(),\n",
    " index=Data_nums.index\n",
    ")"
   ]
  },
  {
   "cell_type": "code",
   "execution_count": 23,
   "id": "034ad9f0-fca2-4459-acaf-612b9cb844ee",
   "metadata": {},
   "outputs": [
    {
     "name": "stdout",
     "output_type": "stream",
     "text": [
      "    Age  Cholesterol  Heart Rate  Diabetes  Family History  Smoking  Obesity  \\\n",
      "0 -1.40         0.29       -0.58     -1.38           -0.99     0.34     0.99   \n",
      "1 -0.27         1.24       -0.44     -1.38           -0.99     0.34    -1.01   \n",
      "\n",
      "   Alcohol Consumption  Exercise Hours Per Week  Previous Heart Problems  ...  \\\n",
      "0                 0.83                    -0.85                     -1.0  ...   \n",
      "1                 0.83                    -1.59                     -1.0  ...   \n",
      "\n",
      "   Stress Level  Sedentary Hours Per Day  Income   BMI  Triglycerides  \\\n",
      "0         -0.52                    -0.79    1.74 -0.83           1.24   \n",
      "1         -0.17                    -1.01    0.11  1.06          -1.51   \n",
      "\n",
      "   Physical Activity Days Per Week  Sleep Hours Per Day  Heart Attack Risk  \\\n",
      "0                             0.66                 0.99              -0.74   \n",
      "1                            -1.10                 0.99              -0.74   \n",
      "\n",
      "   Systolic Blood Pressure  Diastolic Blood Pressure  \n",
      "0                     0.64                      0.87  \n",
      "1                    -1.17                     -0.43  \n",
      "\n",
      "[2 rows x 21 columns]\n"
     ]
    }
   ],
   "source": [
    "print(num_prepared[:2].round(2))"
   ]
  },
  {
   "cell_type": "markdown",
   "id": "a7693157-d2aa-4099-9352-098748be6e32",
   "metadata": {},
   "source": [
    "Creating a categorical pipeline "
   ]
  },
  {
   "cell_type": "code",
   "execution_count": 26,
   "id": "b983ff70-3762-4837-b272-a431dfad8140",
   "metadata": {},
   "outputs": [],
   "source": [
    "cat_pipeline = Pipeline([\n",
    "(\"onehot\", OneHotEncoder(handle_unknown=\"ignore\"))\n",
    "])"
   ]
  },
  {
   "cell_type": "code",
   "execution_count": 27,
   "id": "4e415340-a450-45ad-b67b-fad4331491a4",
   "metadata": {},
   "outputs": [],
   "source": [
    "cat_pipeline = make_pipeline(OneHotEncoder())"
   ]
  },
  {
   "cell_type": "code",
   "execution_count": 28,
   "id": "4bfdd083-9446-4613-80a7-176aae459631",
   "metadata": {},
   "outputs": [],
   "source": [
    "cat_prepared = cat_pipeline.fit_transform(Data_cat)"
   ]
  },
  {
   "cell_type": "code",
   "execution_count": 29,
   "id": "77618121-6545-4e81-b001-aab24fb9823f",
   "metadata": {},
   "outputs": [],
   "source": [
    "cat_prepared= cat_prepared.toarray()"
   ]
  },
  {
   "cell_type": "code",
   "execution_count": 30,
   "id": "2e6683d8-e618-4faf-9c73-a773a45c4a56",
   "metadata": {},
   "outputs": [
    {
     "name": "stdout",
     "output_type": "stream",
     "text": [
      "[[0. 1. 0. 1. 0. 0. 0. 0. 0. 0. 0. 0. 0. 0. 0. 0. 0. 0. 0. 0. 0. 0. 0. 0.\n",
      "  1. 0. 0. 0. 0. 0. 0. 1. 0. 0. 0. 1. 0. 0.]\n",
      " [0. 1. 0. 1. 0. 0. 0. 0. 0. 0. 0. 0. 0. 0. 0. 0. 0. 0. 0. 1. 0. 0. 0. 0.\n",
      "  0. 0. 0. 0. 1. 0. 0. 0. 0. 0. 0. 1. 0. 0.]]\n"
     ]
    }
   ],
   "source": [
    "print(cat_prepared[:2])"
   ]
  },
  {
   "cell_type": "code",
   "execution_count": 31,
   "id": "73caecdd-241d-4b3c-b4f4-a71f9efbb1f1",
   "metadata": {},
   "outputs": [
    {
     "name": "stdout",
     "output_type": "stream",
     "text": [
      "(6984, 38)\n"
     ]
    }
   ],
   "source": [
    "print(cat_prepared.shape)"
   ]
  },
  {
   "cell_type": "code",
   "execution_count": 32,
   "id": "f5dfbdbd-05ab-44ba-a209-1d8613419a03",
   "metadata": {},
   "outputs": [],
   "source": [
    "z = np.concatenate((num_prepared, cat_prepared), axis=1)"
   ]
  },
  {
   "cell_type": "code",
   "execution_count": 33,
   "id": "16c3690a-f1f0-442f-b28c-b43deec9e91c",
   "metadata": {},
   "outputs": [],
   "source": [
    "from sklearn.linear_model import LinearRegression\n",
    "from sklearn.tree import DecisionTreeRegressor\n",
    "from sklearn.ensemble import RandomForestRegressor\n",
    "from sklearn.metrics import mean_squared_error"
   ]
  },
  {
   "cell_type": "code",
   "execution_count": 34,
   "id": "8066495c-c1c4-417d-9647-c8bdf26e45d5",
   "metadata": {},
   "outputs": [
    {
     "ename": "ValueError",
     "evalue": "Number of labels=7001 does not match number of samples=6984",
     "output_type": "error",
     "traceback": [
      "\u001b[1;31m---------------------------------------------------------------------------\u001b[0m",
      "\u001b[1;31mValueError\u001b[0m                                Traceback (most recent call last)",
      "Cell \u001b[1;32mIn[34], line 2\u001b[0m\n\u001b[0;32m      1\u001b[0m tree_reg \u001b[38;5;241m=\u001b[39m DecisionTreeRegressor(random_state\u001b[38;5;241m=\u001b[39m\u001b[38;5;241m42\u001b[39m)\n\u001b[1;32m----> 2\u001b[0m tree_reg\u001b[38;5;241m.\u001b[39mfit(z, Data_Labels)\n",
      "File \u001b[1;32m~\\anaconda3\\Lib\\site-packages\\sklearn\\base.py:1473\u001b[0m, in \u001b[0;36m_fit_context.<locals>.decorator.<locals>.wrapper\u001b[1;34m(estimator, *args, **kwargs)\u001b[0m\n\u001b[0;32m   1466\u001b[0m     estimator\u001b[38;5;241m.\u001b[39m_validate_params()\n\u001b[0;32m   1468\u001b[0m \u001b[38;5;28;01mwith\u001b[39;00m config_context(\n\u001b[0;32m   1469\u001b[0m     skip_parameter_validation\u001b[38;5;241m=\u001b[39m(\n\u001b[0;32m   1470\u001b[0m         prefer_skip_nested_validation \u001b[38;5;129;01mor\u001b[39;00m global_skip_validation\n\u001b[0;32m   1471\u001b[0m     )\n\u001b[0;32m   1472\u001b[0m ):\n\u001b[1;32m-> 1473\u001b[0m     \u001b[38;5;28;01mreturn\u001b[39;00m fit_method(estimator, \u001b[38;5;241m*\u001b[39margs, \u001b[38;5;241m*\u001b[39m\u001b[38;5;241m*\u001b[39mkwargs)\n",
      "File \u001b[1;32m~\\anaconda3\\Lib\\site-packages\\sklearn\\tree\\_classes.py:1377\u001b[0m, in \u001b[0;36mDecisionTreeRegressor.fit\u001b[1;34m(self, X, y, sample_weight, check_input)\u001b[0m\n\u001b[0;32m   1347\u001b[0m \u001b[38;5;129m@_fit_context\u001b[39m(prefer_skip_nested_validation\u001b[38;5;241m=\u001b[39m\u001b[38;5;28;01mTrue\u001b[39;00m)\n\u001b[0;32m   1348\u001b[0m \u001b[38;5;28;01mdef\u001b[39;00m \u001b[38;5;21mfit\u001b[39m(\u001b[38;5;28mself\u001b[39m, X, y, sample_weight\u001b[38;5;241m=\u001b[39m\u001b[38;5;28;01mNone\u001b[39;00m, check_input\u001b[38;5;241m=\u001b[39m\u001b[38;5;28;01mTrue\u001b[39;00m):\n\u001b[0;32m   1349\u001b[0m \u001b[38;5;250m    \u001b[39m\u001b[38;5;124;03m\"\"\"Build a decision tree regressor from the training set (X, y).\u001b[39;00m\n\u001b[0;32m   1350\u001b[0m \n\u001b[0;32m   1351\u001b[0m \u001b[38;5;124;03m    Parameters\u001b[39;00m\n\u001b[1;32m   (...)\u001b[0m\n\u001b[0;32m   1374\u001b[0m \u001b[38;5;124;03m        Fitted estimator.\u001b[39;00m\n\u001b[0;32m   1375\u001b[0m \u001b[38;5;124;03m    \"\"\"\u001b[39;00m\n\u001b[1;32m-> 1377\u001b[0m     \u001b[38;5;28msuper\u001b[39m()\u001b[38;5;241m.\u001b[39m_fit(\n\u001b[0;32m   1378\u001b[0m         X,\n\u001b[0;32m   1379\u001b[0m         y,\n\u001b[0;32m   1380\u001b[0m         sample_weight\u001b[38;5;241m=\u001b[39msample_weight,\n\u001b[0;32m   1381\u001b[0m         check_input\u001b[38;5;241m=\u001b[39mcheck_input,\n\u001b[0;32m   1382\u001b[0m     )\n\u001b[0;32m   1383\u001b[0m     \u001b[38;5;28;01mreturn\u001b[39;00m \u001b[38;5;28mself\u001b[39m\n",
      "File \u001b[1;32m~\\anaconda3\\Lib\\site-packages\\sklearn\\tree\\_classes.py:355\u001b[0m, in \u001b[0;36mBaseDecisionTree._fit\u001b[1;34m(self, X, y, sample_weight, check_input, missing_values_in_feature_mask)\u001b[0m\n\u001b[0;32m    352\u001b[0m max_leaf_nodes \u001b[38;5;241m=\u001b[39m \u001b[38;5;241m-\u001b[39m\u001b[38;5;241m1\u001b[39m \u001b[38;5;28;01mif\u001b[39;00m \u001b[38;5;28mself\u001b[39m\u001b[38;5;241m.\u001b[39mmax_leaf_nodes \u001b[38;5;129;01mis\u001b[39;00m \u001b[38;5;28;01mNone\u001b[39;00m \u001b[38;5;28;01melse\u001b[39;00m \u001b[38;5;28mself\u001b[39m\u001b[38;5;241m.\u001b[39mmax_leaf_nodes\n\u001b[0;32m    354\u001b[0m \u001b[38;5;28;01mif\u001b[39;00m \u001b[38;5;28mlen\u001b[39m(y) \u001b[38;5;241m!=\u001b[39m n_samples:\n\u001b[1;32m--> 355\u001b[0m     \u001b[38;5;28;01mraise\u001b[39;00m \u001b[38;5;167;01mValueError\u001b[39;00m(\n\u001b[0;32m    356\u001b[0m         \u001b[38;5;124m\"\u001b[39m\u001b[38;5;124mNumber of labels=\u001b[39m\u001b[38;5;132;01m%d\u001b[39;00m\u001b[38;5;124m does not match number of samples=\u001b[39m\u001b[38;5;132;01m%d\u001b[39;00m\u001b[38;5;124m\"\u001b[39m\n\u001b[0;32m    357\u001b[0m         \u001b[38;5;241m%\u001b[39m (\u001b[38;5;28mlen\u001b[39m(y), n_samples)\n\u001b[0;32m    358\u001b[0m     )\n\u001b[0;32m    360\u001b[0m \u001b[38;5;28;01mif\u001b[39;00m sample_weight \u001b[38;5;129;01mis\u001b[39;00m \u001b[38;5;129;01mnot\u001b[39;00m \u001b[38;5;28;01mNone\u001b[39;00m:\n\u001b[0;32m    361\u001b[0m     sample_weight \u001b[38;5;241m=\u001b[39m _check_sample_weight(sample_weight, X, DOUBLE)\n",
      "\u001b[1;31mValueError\u001b[0m: Number of labels=7001 does not match number of samples=6984"
     ]
    }
   ],
   "source": [
    "tree_reg = DecisionTreeRegressor(random_state=42)\n",
    "tree_reg.fit(z, Data_Labels)"
   ]
  },
  {
   "cell_type": "code",
   "execution_count": null,
   "id": "3fdc073b-65f0-4bce-9681-80a32dfa230f",
   "metadata": {},
   "outputs": [],
   "source": []
  }
 ],
 "metadata": {
  "kernelspec": {
   "display_name": "Python [conda env:base] *",
   "language": "python",
   "name": "conda-base-py"
  },
  "language_info": {
   "codemirror_mode": {
    "name": "ipython",
    "version": 3
   },
   "file_extension": ".py",
   "mimetype": "text/x-python",
   "name": "python",
   "nbconvert_exporter": "python",
   "pygments_lexer": "ipython3",
   "version": "3.12.7"
  }
 },
 "nbformat": 4,
 "nbformat_minor": 5
}
