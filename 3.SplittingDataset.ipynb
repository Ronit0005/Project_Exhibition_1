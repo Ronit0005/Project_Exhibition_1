{
 "cells": [
  {
   "cell_type": "markdown",
   "id": "556e530f-a59f-47ba-9f39-dd067f9a9d80",
   "metadata": {},
   "source": [
    "Spltting The Dataset Into Train Set And Test Set "
   ]
  },
  {
   "cell_type": "markdown",
   "id": "4f67d4ed-67a2-41a5-b646-e3e7f9f2c1bc",
   "metadata": {},
   "source": [
    "Rather Than Using Random Sampling We are using Stratified Shuffle Split"
   ]
  },
  {
   "cell_type": "code",
   "execution_count": 3,
   "id": "815097cd-5750-4ea8-890d-367c6e65f7fe",
   "metadata": {},
   "outputs": [],
   "source": [
    "from sklearn.model_selection import StratifiedShuffleSplit"
   ]
  },
  {
   "cell_type": "code",
   "execution_count": 4,
   "id": "e2897901-715b-4df8-aa7c-fda0317156d0",
   "metadata": {},
   "outputs": [],
   "source": [
    "import numpy as np"
   ]
  },
  {
   "cell_type": "code",
   "execution_count": 5,
   "id": "5a01d4d3-9e83-4731-9d12-be3381fa1be5",
   "metadata": {},
   "outputs": [],
   "source": [
    "import pandas as pd"
   ]
  },
  {
   "cell_type": "code",
   "execution_count": 6,
   "id": "ad3f4c0a-c7f3-4c7d-bf1f-d96fa7ff055f",
   "metadata": {},
   "outputs": [],
   "source": [
    "Data = pd.read_csv(\"main_set.csv\")"
   ]
  },
  {
   "cell_type": "markdown",
   "id": "a34e47a8-cd1a-455e-ac18-4e62d7bd871e",
   "metadata": {},
   "source": [
    "Droping The Rows With Null Values In The Cholestrol Column "
   ]
  },
  {
   "cell_type": "markdown",
   "id": "2697dea8-67d8-49fb-bec7-67e313005b04",
   "metadata": {},
   "source": [
    "Splitting The Datset Into Train Set (80%) And Test Set (20%) Using 80-20 Rule"
   ]
  },
  {
   "cell_type": "code",
   "execution_count": 9,
   "id": "81e5da57-b47f-47ed-a3bf-84019f304a1b",
   "metadata": {},
   "outputs": [
    {
     "name": "stdout",
     "output_type": "stream",
     "text": [
      "Split successful!\n"
     ]
    }
   ],
   "source": [
    "Data= Data.dropna(subset=['Cholesterol']).copy()\n",
    "Data[\"cholestrol_cat\"] = pd.cut(\n",
    "    Data[\"Cholesterol\"],\n",
    "    bins=[-np.inf, 140, 160, 180, 200, np.inf], \n",
    "    labels=[1, 2, 3, 4, 5]\n",
    ")\n",
    "Data.reset_index(drop=True, inplace=True)\n",
    "split = StratifiedShuffleSplit(n_splits=1, test_size=0.2, random_state=42)\n",
    "\n",
    "for train_index, test_index in split.split(Data, Data[\"cholestrol_cat\"]):\n",
    "    strat_train_set = Data.loc[train_index]\n",
    "    strat_test_set = Data.loc[test_index]\n",
    "\n",
    "print(\"Split successful!\")"
   ]
  },
  {
   "cell_type": "code",
   "execution_count": 10,
   "id": "586f8975-0e87-4f22-9094-71298a513d41",
   "metadata": {},
   "outputs": [],
   "source": [
    "strat_train_set.to_csv(\"Training_set.csv\",index=False)"
   ]
  },
  {
   "cell_type": "code",
   "execution_count": 11,
   "id": "d2e6a40d-ac91-4ab8-85c2-4b85f1be3861",
   "metadata": {},
   "outputs": [],
   "source": [
    "strat_test_set.to_csv(\"Test_set.csv\",index=False)"
   ]
  }
 ],
 "metadata": {
  "kernelspec": {
   "display_name": "Python [conda env:base] *",
   "language": "python",
   "name": "conda-base-py"
  },
  "language_info": {
   "codemirror_mode": {
    "name": "ipython",
    "version": 3
   },
   "file_extension": ".py",
   "mimetype": "text/x-python",
   "name": "python",
   "nbconvert_exporter": "python",
   "pygments_lexer": "ipython3",
   "version": "3.12.7"
  }
 },
 "nbformat": 4,
 "nbformat_minor": 5
}
