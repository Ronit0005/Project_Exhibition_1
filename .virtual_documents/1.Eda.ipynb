


import pandas as pd


Data = pd.read_csv("main_set.csv")








print(Data.head())   # Top 5 rows in the dataset
print("------------------------------------------------------------------------------------------------------------------------")
print(Data.tail())     # Last 5 rows in the dataset





print(Data.info())





print(Data.iloc[:,1:].describe())
