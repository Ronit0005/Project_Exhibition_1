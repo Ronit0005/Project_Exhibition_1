import pandas as pd


import numpy as np


from sklearn.preprocessing import OneHotEncoder


from sklearn.preprocessing import StandardScaler


Data = pd.read_csv("Training_set2.csv")


Data_nums = Data.select_dtypes(include=[np.number])


Data_cat = Data.select_dtypes(include=[object])


print(Data_cat)


standard_scaler = StandardScaler()
x = standard_scaler.fit_transform(Data_nums)


print(type(x))


print(x.shape)


Data2_nums = pd.DataFrame(x, columns=Data_nums.columns, index=Data_nums.index)





cat_encoder = OneHotEncoder()
y = cat_encoder.fit_transform(Data_cat)


y= y.toarray()


print(y.shape)


print(type(y))


z = np.concatenate((x, y), axis=1)


print(z.shape)


print(z[0])
