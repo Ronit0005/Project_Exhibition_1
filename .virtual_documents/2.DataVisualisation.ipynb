import pandas as pd


from pandas.plotting import scatter_matrix


import matplotlib.pyplot as plt


import seaborn as sns


Data = pd.read_csv("main_set.csv")





plt.figure(figsize=(10, 6))
sns.histplot(Data['Age'], bins=10, kde=True)
plt.title('Distribution of Patient Age')
plt.xlabel('Age')
plt.ylabel('Frequency')
plt.grid(axis="y",True)
plt.show()


corr_matrix = Data.corr(numeric_only=True)


print(corr_matrix)


corr_matrix = Data.corr(numeric_only=True)
plt.figure(figsize=(16, 12))
sns.heatmap(corr_matrix, annot=True, cmap='coolwarm', fmt=".2f")
plt.title('Correlation Matrix of Numerical Variables')
plt.show()


print(corr_matrix["Heart Attack Risk"].sort_values(ascending=False))








sns.boxplot(x="Heart Attack Risk", y="Cholesterol", data=Data)
plt.title('Boxplot of Heart Attack Risk VS Colestrol Levels')
plt.grid(axis="y",alpha=0.2)
plt.show()


plt.figure(figsize=(10, 6))
sns.countplot(x='Sex', hue='Heart Attack Risk', data=Data)
plt.title('Heart Attack Risk by Gender', fontsize=16)
plt.xlabel('Sex',fontsize=12)
plt.ylabel('Count',fontsize=12)
plt.grid(axis='y',linestyle='--',alpha=0.7)
plt.legend(title='Heart Attack Risk',labels=['No','Yes'])
plt.show()





plt.figure(figsize=(10, 6))
sns.boxplot(x='Diet', y='Cholesterol', data=Data)
plt.title('Cholesterol Levels by Diet')
plt.xlabel('Diet')
plt.ylabel('Cholesterol')
plt.show()





attributes = ["Heart Attack Risk", "Cholesterol", "Diabetes", "Exercise Hours Per Week"]
scatter_matrix(Data[attributes], figsize=(12, 8))
plt.show()



