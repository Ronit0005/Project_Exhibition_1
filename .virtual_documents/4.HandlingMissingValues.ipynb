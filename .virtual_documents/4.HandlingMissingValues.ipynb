import numpy as np


from sklearn.impute import SimpleImputer


import pandas as pd


Data = pd.read_csv("Training_set.csv")





features = Data.drop("Heart Attack Risk", axis=1)
labels = Data["Heart Attack Risk"].copy()



imputer = SimpleImputer(strategy="median")
features_nums= features.select_dtypes(include=[np.number])
imputer.fit(features_nums)


X = imputer.transform(features_nums)
features_nums2= pd.DataFrame(X, columns=features_nums.columns, index=features_nums.index)


imputer = SimpleImputer(strategy="most_frequent")
features_cat= Data.select_dtypes(include=["object"])
imputer.fit(features_cat)


X = imputer.transform(features_cat)
features_cat2= pd.DataFrame(X, columns=features_cat.columns, index=features_cat.index)


print(features_cat2.info())


print(features_nums2.info())


Data2 = pd.concat([features_nums2,features_cat2], axis=1)


print(Data2.info())





Data2= Data2[['Patient ID', 'Age', 'Sex', 'Cholesterol', 'Blood Pressure',
       'Heart Rate', 'Diabetes', 'Family History', 'Smoking', 'Obesity',
       'Alcohol Consumption', 'Exercise Hours Per Week', 'Diet',
       'Previous Heart Problems', 'Medication Use', 'Stress Level',
       'Sedentary Hours Per Day', 'Income', 'BMI', 'Triglycerides',
       'Physical Activity Days Per Week', 'Sleep Hours Per Day', 'Country',
       'Continent', 'Hemisphere']]


Data2.dropna(subset=['Blood Pressure'], inplace=True)
Data2[['Systolic Blood Pressure', 'Diastolic Blood Pressure']] = Data2['Blood Pressure'].str.split('/', expand=True).astype(float)
Data2.drop("Blood Pressure",axis=1,inplace=True)


Data2.drop("Patient ID",axis=1,inplace=True)


Data2.to_csv("Training_set2.csv",index=False)
