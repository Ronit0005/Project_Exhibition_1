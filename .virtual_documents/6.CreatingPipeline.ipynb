from sklearn.pipeline import make_pipeline


import pandas as pd


from sklearn.pipeline import Pipeline


from sklearn.impute import SimpleImputer


from sklearn.preprocessing import StandardScaler


import numpy as np


from sklearn.preprocessing import OneHotEncoder


Data = pd.read_csv("Training_set.csv")


Data.dropna(subset=['Blood Pressure'], inplace=True)
Data[['Systolic Blood Pressure', 'Diastolic Blood Pressure']] = Data['Blood Pressure'].str.split('/', expand=True).astype(float)
Data.drop("Blood Pressure",axis=1,inplace=True)





Data_nums = Data.select_dtypes(include=[np.number])


Data_cat = Data.select_dtypes(include=[object])





num_pipeline = Pipeline([
("impute", SimpleImputer(strategy="median")),
("standardize", StandardScaler()),
])


num_pipeline = make_pipeline(SimpleImputer(strategy="median"), StandardScaler())


num_prepared = num_pipeline.fit_transform(Data_nums)


num_prepared = pd.DataFrame(
 num_prepared,
 columns=num_pipeline.get_feature_names_out(),
 index=Data_nums.index
)


print(num_prepared[:2].round(2))





Data_cat = Data_cat.drop("Patient ID",axis=1)


cat_pipeline = Pipeline([
("onehot", OneHotEncoder(handle_unknown="ignore"))
])


cat_pipeline = make_pipeline(OneHotEncoder())


cat_prepared = cat_pipeline.fit_transform(Data_cat)


cat_prepared= cat_prepared.toarray()


print(cat_prepared[:2])


print(cat_prepared.shape)
