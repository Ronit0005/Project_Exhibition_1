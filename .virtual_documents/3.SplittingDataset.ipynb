





from sklearn.model_selection import StratifiedShuffleSplit


import numpy as np


import pandas as pd


Data = pd.read_csv("main_set.csv")








Data= Data.dropna(subset=['Cholesterol']).copy()
Data["cholestrol_cat"] = pd.cut(
    Data["Cholesterol"],
    # Change the lowest bin edge to -np.inf
    bins=[-np.inf, 140, 160, 180, 200, np.inf], 
    labels=[1, 2, 3, 4, 5]
)
Data.reset_index(drop=True, inplace=True)
split = StratifiedShuffleSplit(n_splits=1, test_size=0.2, random_state=42)

for train_index, test_index in split.split(Data, Data["cholestrol_cat"]):
    strat_train_set = Data.loc[train_index]
    strat_test_set = Data.loc[test_index]

print("Split successful!")


strat_train_set.to_csv("Training_set.csv",index=False)


strat_test_set.to_csv("Test_set.csv",index=False)
