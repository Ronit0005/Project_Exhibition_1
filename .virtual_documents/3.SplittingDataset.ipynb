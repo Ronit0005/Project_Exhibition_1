





from sklearn.model_selection import StratifiedShuffleSplit


import pandas as pd


Data = pd.read_csv("main_set.csv")








Data= Data.dropna(subset=['Cholesterol']).copy()
Data.reset_index(drop=True, inplace=True)
split = StratifiedShuffleSplit(n_splits=1, test_size=0.2, random_state=42)

for train_index, test_index in split.split(Data, Data["Cholesterol"]):
    strat_train_set = Data.loc[train_index]
    strat_test_set = Data.loc[test_index]

print("Split successful!")


strat_train_set.to_csv("Training_set.csv")


strat_test_set.to_csv("Test_set.csv",index=False)
