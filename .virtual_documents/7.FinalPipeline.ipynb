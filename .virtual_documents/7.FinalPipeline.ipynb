import pandas as pd


import numpy as np


from sklearn.preprocessing import StandardScaler, OneHotEncoder


from sklearn.impute import SimpleImputer


from sklearn.compose import ColumnTransformer


from sklearn.pipeline import Pipeline


from sklearn.model_selection import StratifiedShuffleSplit





Data = pd.read_csv("Training_set.csv")





Data= Data.dropna(subset=['Cholesterol']).copy()
Data["cholestrol_cat"] = pd.cut(
 Data["Cholesterol"],
 bins=[120,140,160,180,200, np.inf],
 labels=[1, 2, 3, 4, 5]
)


split = StratifiedShuffleSplit(n_splits=1, test_size=0.2, random_state=42)

for train_index, test_index in split.split(Data, Data["Cholesterol"]):
    strat_train_set = Data.loc[train_index]
    strat_test_set = Data.loc[test_index]


Data_Train = strat_train_set.copy()


Train_labels= Data_Train["Heart Attack Risk"].copy()
Train_features = Data_Train.drop("Heart Attack Risk", axis=1)



